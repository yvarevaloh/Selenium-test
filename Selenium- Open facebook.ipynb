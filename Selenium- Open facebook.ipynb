{
 "cells": [
  {
   "cell_type": "code",
   "execution_count": 73,
   "metadata": {},
   "outputs": [],
   "source": [
    "from selenium import webdriver\n",
    "from selenium.webdriver.support.ui import WebDriverWait\n",
    "from selenium.webdriver.common import keys \n",
    "import os\n",
    "import time\n",
    "import unittest"
   ]
  },
  {
   "cell_type": "code",
   "execution_count": 1,
   "metadata": {},
   "outputs": [],
   "source": [
    "import unittest\n",
    "from selenium import webdriver\n",
    "from selenium.common.exceptions import NoSuchElementException\n",
    "from selenium.webdriver.chrome.options import Options\n",
    "from selenium.webdriver.common.keys import Keys\n",
    "import time\n",
    "import os\n",
    "\n",
    "#ruta_proyecto = os.path.dirname(os.path.abspath(__file__))\n",
    "ruta_proyecto =\"/home/yarevalo/Documentos/yeimy/chromedriver\"\n",
    "driver = None\n",
    "\n",
    "class LoginWeb(unittest.TestCase):\n",
    "\n",
    "    @classmethod\n",
    "    def setUpClass(self):\n",
    "        #\"\"\"Esta funciòn inicia el driver de chrome\"\"\"\n",
    "        chrome_options = Options()\n",
    "        chrome_options.add_argument('--incognito')\n",
    "        chrome_options.add_experimental_option(\"prefs\", {'profile.default_content_settings.popups': 0})\n",
    "        ruta_chrome = ruta_proyecto \n",
    "        self.driver = webdriver.Chrome(executable_path=ruta_chrome, chrome_options=chrome_options)\n",
    "        print(ruta_chrome)\n",
    "\n",
    "    def test_buscar_appium(self):\n",
    "        #\"\"\"Busca Web en chrome y verifica...\"\"\"\n",
    "        self.driver.get(\"https://www.facebook.com/\")\n",
    "        time.sleep(1)\n",
    "\n",
    "        try:\n",
    "            barra_buscadora = self.driver.find_element_by_id(\"email\")\n",
    "            barra_buscadora.send_keys(\"user_name\")\n",
    "            time.sleep(1)\n",
    "            barra_buscadora = self.driver.find_element_by_id(\"pass\")\n",
    "            barra_buscadora.send_keys(\"password\")\n",
    "            barra_buscadora.submit()\n",
    "            time.sleep(1)\n",
    "\n",
    "        except NoSuchElementException:\n",
    "            print('Tappsi')\n",
    "\n",
    "        time.sleep(1)\n",
    "\n",
    "    @classmethod\n",
    "    def tearDownClass(self):\n",
    "        \"\"\"Cierra el driver de Chrome\"\"\"\n",
    "        self.driver.quit()\n",
    "        time.sleep(1)"
   ]
  },
  {
   "cell_type": "code",
   "execution_count": 2,
   "metadata": {},
   "outputs": [],
   "source": [
    "mi_login = LoginWeb()\n",
    "mi_login.setUpClass()\n",
    "mi_login.test_buscar_appium()\n",
    "mi_login.tearDownClass()"
   ]
  }
 ],
 "metadata": {
  "kernelspec": {
   "display_name": "Python 3",
   "language": "python",
   "name": "python3"
  },
  "language_info": {
   "codemirror_mode": {
    "name": "ipython",
    "version": 3
   },
   "file_extension": ".py",
   "mimetype": "text/x-python",
   "name": "python",
   "nbconvert_exporter": "python",
   "pygments_lexer": "ipython3",
   "version": "3.6.1"
  }
 },
 "nbformat": 4,
 "nbformat_minor": 2
}
